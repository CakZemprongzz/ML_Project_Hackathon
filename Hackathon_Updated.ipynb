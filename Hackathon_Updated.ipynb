{
 "cells": [
  {
   "cell_type": "markdown",
   "id": "868650ac",
   "metadata": {},
   "source": [
    "# Installing Required Packages\n",
    "This cell installs essential Python libraries such as pandas, numpy, and scikit-learn which are required for data manipulation, machine learning modeling, and evaluation."
   ]
  },
  {
   "cell_type": "code",
   "execution_count": null,
   "metadata": {
    "colab": {
     "base_uri": "https://localhost:8080/"
    },
    "id": "MTjahmubbGwn",
    "outputId": "a40efc7c-3135-4cc8-ece4-0acc2db29c15"
   },
   "outputs": [
    {
     "name": "stdout",
     "output_type": "stream",
     "text": [
      "Requirement already satisfied: pandas in /usr/local/lib/python3.10/dist-packages (1.5.3)\n",
      "Requirement already satisfied: python-dateutil>=2.8.1 in /usr/local/lib/python3.10/dist-packages (from pandas) (2.8.2)\n",
      "Requirement already satisfied: pytz>=2020.1 in /usr/local/lib/python3.10/dist-packages (from pandas) (2023.3.post1)\n",
      "Requirement already satisfied: numpy>=1.21.0 in /usr/local/lib/python3.10/dist-packages (from pandas) (1.23.5)\n",
      "Requirement already satisfied: six>=1.5 in /usr/local/lib/python3.10/dist-packages (from python-dateutil>=2.8.1->pandas) (1.16.0)\n",
      "Requirement already satisfied: numpy in /usr/local/lib/python3.10/dist-packages (1.23.5)\n",
      "Requirement already satisfied: scikit-learn in /usr/local/lib/python3.10/dist-packages (1.2.2)\n",
      "Requirement already satisfied: numpy>=1.17.3 in /usr/local/lib/python3.10/dist-packages (from scikit-learn) (1.23.5)\n",
      "Requirement already satisfied: scipy>=1.3.2 in /usr/local/lib/python3.10/dist-packages (from scikit-learn) (1.11.3)\n",
      "Requirement already satisfied: joblib>=1.1.1 in /usr/local/lib/python3.10/dist-packages (from scikit-learn) (1.3.2)\n",
      "Requirement already satisfied: threadpoolctl>=2.0.0 in /usr/local/lib/python3.10/dist-packages (from scikit-learn) (3.2.0)\n"
     ]
    }
   ],
   "source": [
    "%pip install pandas\n",
    "%pip install numpy\n",
    "%pip install scikit-learn"
   ]
  },
  {
   "cell_type": "markdown",
   "id": "8404a4a3",
   "metadata": {},
   "source": [
    "# Importing Libraries\n",
    "This cell imports the necessary libraries and modules that will be used throughout the notebook."
   ]
  },
  {
   "cell_type": "code",
   "execution_count": null,
   "metadata": {
    "id": "OoO5bhsZZ_mP"
   },
   "outputs": [],
   "source": [
    "import pandas as pd\n",
    "import numpy as np\n",
    "from sklearn.model_selection import train_test_split, StratifiedKFold\n",
    "from sklearn.preprocessing import MinMaxScaler\n",
    "from sklearn.svm import OneClassSVM\n",
    "from sklearn.metrics import classification_report, roc_auc_score"
   ]
  },
  {
   "cell_type": "markdown",
   "id": "6e0a1fb8",
   "metadata": {},
   "source": [
    "# Loading the Dataset\n",
    "The dataset is loaded into a pandas DataFrame from a CSV file. Ensure that the file path is correct and accessible."
   ]
  },
  {
   "cell_type": "code",
   "execution_count": null,
   "metadata": {
    "id": "PHp3lAToaH_p"
   },
   "outputs": [],
   "source": [
    "data = pd.read_csv('CIDDS-001-external-week1.csv')"
   ]
  },
  {
   "cell_type": "markdown",
   "id": "5655236c",
   "metadata": {},
   "source": [
    "# Converting Byte Values\n",
    "This function converts byte values represented as strings (with K, M, G suffixes) to their numerical equivalent in bytes. The 'Bytes' column in the dataset is then updated with the converted values."
   ]
  },
  {
   "cell_type": "code",
   "execution_count": null,
   "metadata": {
    "id": "xuj6owVOaJRJ"
   },
   "outputs": [],
   "source": [
    "def convert_bytes(value):\n",
    "    if 'M' in value:\n",
    "        return float(value.replace('M', '')) * 10**6\n",
    "    elif 'K' in value:\n",
    "        return float(value.replace('K', '')) * 10**3\n",
    "    elif 'G' in value:\n",
    "        return float(value.replace('G', '')) * 10**9\n",
    "    else:\n",
    "        return float(value)\n",
    "data['Bytes'] = data['Bytes'].apply(convert_bytes)"
   ]
  },
  {
   "cell_type": "markdown",
   "id": "c470e459",
   "metadata": {},
   "source": [
    "# Cleaning the Data\n",
    "The cell removes specific columns from the dataset that are not needed for the analysis."
   ]
  },
  {
   "cell_type": "code",
   "execution_count": null,
   "metadata": {
    "id": "3BluXIc5aPub"
   },
   "outputs": [],
   "source": [
    "data = data.drop(columns =['attackID','attackType','attackDescription'])"
   ]
  },
  {
   "cell_type": "markdown",
   "id": "02b784d2",
   "metadata": {},
   "source": [
    "# Handling High Cardinality Variables\n",
    "Identifying variables with a high number of unique values and reducing their cardinality by keeping the top 10 values and setting the rest to 'Other'."
   ]
  },
  {
   "cell_type": "code",
   "execution_count": null,
   "metadata": {
    "colab": {
     "base_uri": "https://localhost:8080/"
    },
    "id": "M2BA_or1aPkW",
    "outputId": "f30ca11d-d521-4afd-f560-447946badaa5"
   },
   "outputs": [
    {
     "name": "stdout",
     "output_type": "stream",
     "text": [
      "High Cardinality Variables: ['Date first seen', 'Src IP Addr', 'Dst IP Addr']\n"
     ]
    }
   ],
   "source": [
    "high_cardinality_vars = [col for col in data.select_dtypes(include=['object']).columns if data[col].nunique() > 100]\n",
    "print(\"High Cardinality Variables:\", high_cardinality_vars)"
   ]
  },
  {
   "cell_type": "markdown",
   "id": "21652312",
   "metadata": {},
   "source": [
    "# One-Hot Encoding\n",
    "Applying one-hot encoding to categorical variables in the dataset to convert them into a format that can be provided to machine learning models."
   ]
  },
  {
   "cell_type": "code",
   "execution_count": null,
   "metadata": {
    "id": "-k-wNlOxaTn5"
   },
   "outputs": [],
   "source": [
    "for col in high_cardinality_vars:\n",
    "    top_categories = data[col].value_counts().index[:10]\n",
    "    data[col] = np.where(data[col].isin(top_categories), data[col], 'Other')"
   ]
  },
  {
   "cell_type": "markdown",
   "id": "79863100",
   "metadata": {},
   "source": [
    "# More Data Cleaning\n",
    "Dropping additional columns that are not required for the analysis."
   ]
  },
  {
   "cell_type": "code",
   "execution_count": null,
   "metadata": {
    "id": "NuEizVuqaXNn"
   },
   "outputs": [],
   "source": [
    "data_encoded = pd.get_dummies(data, columns=['Proto', 'Flags', 'class'])"
   ]
  },
  {
   "cell_type": "markdown",
   "id": "c74ca6c5",
   "metadata": {},
   "source": [
    "# Displaying the Processed Data\n",
    "This cell displays the first five rows of the processed dataset to provide a quick overview of the data."
   ]
  },
  {
   "cell_type": "code",
   "execution_count": null,
   "metadata": {
    "id": "GMPiey2vaTm1"
   },
   "outputs": [],
   "source": [
    "data_encoded = data_encoded.drop(columns=['Date first seen','Src IP Addr','Dst IP Addr'])"
   ]
  },
  {
   "cell_type": "markdown",
   "id": "dfb7b535",
   "metadata": {},
   "source": [
    "# Checking for Missing Values\n",
    "Identifying and printing any missing values in the dataset."
   ]
  },
  {
   "cell_type": "code",
   "execution_count": null,
   "metadata": {
    "colab": {
     "base_uri": "https://localhost:8080/"
    },
    "id": "DwbGZVIWadQ2",
    "outputId": "24f0a28e-6368-4912-f02d-7f0853785f05"
   },
   "outputs": [
    {
     "name": "stdout",
     "output_type": "stream",
     "text": [
      "    Duration  Src Pt   Dst Pt  Packets       Bytes  Flows  Tos  Proto_GRE    \\\n",
      "0  81412.697    8082  56978.0     3057   2100000.0      1    0            0   \n",
      "1  81412.697   56978   8082.0     4748   2500000.0      1    0            0   \n",
      "2  81504.787    8082  56979.0     8639   9100000.0      1    0            0   \n",
      "3  81504.787   56979   8082.0    12024  10300000.0      1    0            0   \n",
      "4  82100.692    8082  51649.0    11012  27200000.0      1    0            0   \n",
      "\n",
      "   Proto_ICMP   Proto_TCP    ...  Flags_.A.RS.  Flags_.A.RSF  Flags_.AP...  \\\n",
      "0            0            1  ...             0             0             1   \n",
      "1            0            1  ...             0             0             1   \n",
      "2            0            1  ...             0             0             1   \n",
      "3            0            1  ...             0             0             1   \n",
      "4            0            1  ...             0             0             0   \n",
      "\n",
      "   Flags_.AP.S.  Flags_.AP.SF  Flags_.APRS.  Flags_.APRSF  class_normal  \\\n",
      "0             0             0             0             0             1   \n",
      "1             0             0             0             0             1   \n",
      "2             0             0             0             0             1   \n",
      "3             0             0             0             0             1   \n",
      "4             1             0             0             0             1   \n",
      "\n",
      "   class_suspicious  class_unknown  \n",
      "0                 0              0  \n",
      "1                 0              0  \n",
      "2                 0              0  \n",
      "3                 0              0  \n",
      "4                 0              0  \n",
      "\n",
      "[5 rows x 39 columns]\n"
     ]
    }
   ],
   "source": [
    "print(data_encoded.head())"
   ]
  },
  {
   "cell_type": "markdown",
   "id": "217ee5a5",
   "metadata": {},
   "source": [
    "# Converting Boolean to Integer\n",
    "Converting all boolean columns in the dataset to integers to ensure consistency in data types."
   ]
  },
  {
   "cell_type": "code",
   "execution_count": null,
   "metadata": {
    "colab": {
     "base_uri": "https://localhost:8080/"
    },
    "id": "KGcDECHNaduv",
    "outputId": "75d82971-830d-4f57-d0b7-778f01092c46"
   },
   "outputs": [
    {
     "name": "stdout",
     "output_type": "stream",
     "text": [
      "\n",
      "Missing Values : Duration            0\n",
      "Src Pt              0\n",
      "Dst Pt              0\n",
      "Packets             0\n",
      "Bytes               0\n",
      "Flows               0\n",
      "Tos                 0\n",
      "Proto_GRE           0\n",
      "Proto_ICMP          0\n",
      "Proto_TCP           0\n",
      "Proto_UDP           0\n",
      "Flags_  0x53        0\n",
      "Flags_  0xc2        0\n",
      "Flags_  0xd2        0\n",
      "Flags_  0xd3        0\n",
      "Flags_  0xd6        0\n",
      "Flags_  0xd7        0\n",
      "Flags_  0xda        0\n",
      "Flags_  0xdb        0\n",
      "Flags_  0xdf        0\n",
      "Flags_......        0\n",
      "Flags_....S.        0\n",
      "Flags_...R..        0\n",
      "Flags_...RS.        0\n",
      "Flags_.A....        0\n",
      "Flags_.A..S.        0\n",
      "Flags_.A..SF        0\n",
      "Flags_.A.R..        0\n",
      "Flags_.A.R.F        0\n",
      "Flags_.A.RS.        0\n",
      "Flags_.A.RSF        0\n",
      "Flags_.AP...        0\n",
      "Flags_.AP.S.        0\n",
      "Flags_.AP.SF        0\n",
      "Flags_.APRS.        0\n",
      "Flags_.APRSF        0\n",
      "class_normal        0\n",
      "class_suspicious    0\n",
      "class_unknown       0\n",
      "dtype: int64 \n",
      "\n"
     ]
    }
   ],
   "source": [
    "missing_values = data_encoded.isnull().sum()\n",
    "print(\"\\nMissing Values :\", missing_values,'\\n')"
   ]
  },
  {
   "cell_type": "markdown",
   "id": "1e87d168",
   "metadata": {},
   "source": [
    "# Filtering the Data\n",
    "Filtering the dataset to include only specific rows based on a condition."
   ]
  },
  {
   "cell_type": "code",
   "execution_count": null,
   "metadata": {
    "id": "cupDV6e5agoh"
   },
   "outputs": [],
   "source": [
    "for col in data_encoded.columns:\n",
    "    if data_encoded[col].dtype == 'bool':\n",
    "        data_encoded[col] = data_encoded[col].astype(int)"
   ]
  },
  {
   "cell_type": "markdown",
   "id": "152a862f",
   "metadata": {},
   "source": [
    "# Saving Processed Data to CSV\n",
    "Saving the processed and encoded dataset to a CSV file."
   ]
  },
  {
   "cell_type": "code",
   "execution_count": null,
   "metadata": {
    "id": "rqVYrg6fahxu"
   },
   "outputs": [],
   "source": [
    "data_filtered = data_encoded[data_encoded['class_unknown'] == 0]"
   ]
  },
  {
   "cell_type": "markdown",
   "id": "1fad5782",
   "metadata": {},
   "source": [
    "# Separating Normal and Anomalous Data\n",
    "Dividing the dataset into normal and anomalous data based on the 'class_normal' column."
   ]
  },
  {
   "cell_type": "code",
   "execution_count": null,
   "metadata": {
    "id": "gueoG9pfanOd"
   },
   "outputs": [],
   "source": [
    "data_encoded.to_csv('data_encoded.csv',index=False)"
   ]
  },
  {
   "cell_type": "markdown",
   "id": "566522f9",
   "metadata": {},
   "source": [
    "# One-Class SVM Model and Evaluation\n",
    "In the following cells, a One-Class SVM model is set up, trained, and evaluated. The model is used for anomaly detection, identifying normal and anomalous patterns in the data."
   ]
  },
  {
   "cell_type": "code",
   "execution_count": null,
   "metadata": {
    "id": "vL3xqMaIXsDs"
   },
   "outputs": [],
   "source": [
    "data_normal = data_encoded[data_encoded['class_normal'] == 1]\n",
    "data_anomalous = data_encoded[data_encoded['class_normal'] == 0]"
   ]
  },
  {
   "cell_type": "code",
   "execution_count": null,
   "metadata": {
    "id": "HZ_ZKv2OatOJ"
   },
   "outputs": [],
   "source": [
    "X = data_encoded.drop(columns=['class_normal'])\n",
    "y = data_encoded['class_normal']\n",
    "X_train, X_test, y_train, y_test = train_test_split(X, y, test_size=0.2, stratify=y, random_state=42)"
   ]
  },
  {
   "cell_type": "code",
   "execution_count": null,
   "metadata": {
    "id": "eCuZDPF8au1x"
   },
   "outputs": [],
   "source": [
    "scaler = MinMaxScaler()\n",
    "scaler.fit(X_train)\n",
    "X_train_scaled = scaler.transform(X_train)\n",
    "X_test_scaled = scaler.transform(X_test)"
   ]
  },
  {
   "cell_type": "code",
   "execution_count": null,
   "metadata": {
    "id": "j4RNhbDHawDq"
   },
   "outputs": [],
   "source": [
    "X_train_normal = X_train_scaled[y_train == 0]\n",
    "X_test_normal = X_test_scaled[y_test == 0]\n",
    "X_test_anomalies = X_test_scaled[y_test == 1]"
   ]
  },
  {
   "cell_type": "code",
   "execution_count": null,
   "metadata": {
    "id": "20RbD7tGaysn"
   },
   "outputs": [],
   "source": [
    "oc_svm = OneClassSVM(kernel='linear', nu=0.01)\n",
    "#oc_svm = OneClassSVM(kernel='rbf', gamma='auto')"
   ]
  },
  {
   "cell_type": "code",
   "execution_count": null,
   "metadata": {
    "colab": {
     "base_uri": "https://localhost:8080/",
     "height": 74
    },
    "id": "26bMXJeta0XL",
    "outputId": "db43dff4-ba2b-4a21-ac53-16531a065cfa"
   },
   "outputs": [
    {
     "data": {
      "text/html": [
       "<style>#sk-container-id-1 {color: black;background-color: white;}#sk-container-id-1 pre{padding: 0;}#sk-container-id-1 div.sk-toggleable {background-color: white;}#sk-container-id-1 label.sk-toggleable__label {cursor: pointer;display: block;width: 100%;margin-bottom: 0;padding: 0.3em;box-sizing: border-box;text-align: center;}#sk-container-id-1 label.sk-toggleable__label-arrow:before {content: \"▸\";float: left;margin-right: 0.25em;color: #696969;}#sk-container-id-1 label.sk-toggleable__label-arrow:hover:before {color: black;}#sk-container-id-1 div.sk-estimator:hover label.sk-toggleable__label-arrow:before {color: black;}#sk-container-id-1 div.sk-toggleable__content {max-height: 0;max-width: 0;overflow: hidden;text-align: left;background-color: #f0f8ff;}#sk-container-id-1 div.sk-toggleable__content pre {margin: 0.2em;color: black;border-radius: 0.25em;background-color: #f0f8ff;}#sk-container-id-1 input.sk-toggleable__control:checked~div.sk-toggleable__content {max-height: 200px;max-width: 100%;overflow: auto;}#sk-container-id-1 input.sk-toggleable__control:checked~label.sk-toggleable__label-arrow:before {content: \"▾\";}#sk-container-id-1 div.sk-estimator input.sk-toggleable__control:checked~label.sk-toggleable__label {background-color: #d4ebff;}#sk-container-id-1 div.sk-label input.sk-toggleable__control:checked~label.sk-toggleable__label {background-color: #d4ebff;}#sk-container-id-1 input.sk-hidden--visually {border: 0;clip: rect(1px 1px 1px 1px);clip: rect(1px, 1px, 1px, 1px);height: 1px;margin: -1px;overflow: hidden;padding: 0;position: absolute;width: 1px;}#sk-container-id-1 div.sk-estimator {font-family: monospace;background-color: #f0f8ff;border: 1px dotted black;border-radius: 0.25em;box-sizing: border-box;margin-bottom: 0.5em;}#sk-container-id-1 div.sk-estimator:hover {background-color: #d4ebff;}#sk-container-id-1 div.sk-parallel-item::after {content: \"\";width: 100%;border-bottom: 1px solid gray;flex-grow: 1;}#sk-container-id-1 div.sk-label:hover label.sk-toggleable__label {background-color: #d4ebff;}#sk-container-id-1 div.sk-serial::before {content: \"\";position: absolute;border-left: 1px solid gray;box-sizing: border-box;top: 0;bottom: 0;left: 50%;z-index: 0;}#sk-container-id-1 div.sk-serial {display: flex;flex-direction: column;align-items: center;background-color: white;padding-right: 0.2em;padding-left: 0.2em;position: relative;}#sk-container-id-1 div.sk-item {position: relative;z-index: 1;}#sk-container-id-1 div.sk-parallel {display: flex;align-items: stretch;justify-content: center;background-color: white;position: relative;}#sk-container-id-1 div.sk-item::before, #sk-container-id-1 div.sk-parallel-item::before {content: \"\";position: absolute;border-left: 1px solid gray;box-sizing: border-box;top: 0;bottom: 0;left: 50%;z-index: -1;}#sk-container-id-1 div.sk-parallel-item {display: flex;flex-direction: column;z-index: 1;position: relative;background-color: white;}#sk-container-id-1 div.sk-parallel-item:first-child::after {align-self: flex-end;width: 50%;}#sk-container-id-1 div.sk-parallel-item:last-child::after {align-self: flex-start;width: 50%;}#sk-container-id-1 div.sk-parallel-item:only-child::after {width: 0;}#sk-container-id-1 div.sk-dashed-wrapped {border: 1px dashed gray;margin: 0 0.4em 0.5em 0.4em;box-sizing: border-box;padding-bottom: 0.4em;background-color: white;}#sk-container-id-1 div.sk-label label {font-family: monospace;font-weight: bold;display: inline-block;line-height: 1.2em;}#sk-container-id-1 div.sk-label-container {text-align: center;}#sk-container-id-1 div.sk-container {/* jupyter's `normalize.less` sets `[hidden] { display: none; }` but bootstrap.min.css set `[hidden] { display: none !important; }` so we also need the `!important` here to be able to override the default hidden behavior on the sphinx rendered scikit-learn.org. See: https://github.com/scikit-learn/scikit-learn/issues/21755 */display: inline-block !important;position: relative;}#sk-container-id-1 div.sk-text-repr-fallback {display: none;}</style><div id=\"sk-container-id-1\" class=\"sk-top-container\"><div class=\"sk-text-repr-fallback\"><pre>OneClassSVM(kernel=&#x27;linear&#x27;, nu=0.01)</pre><b>In a Jupyter environment, please rerun this cell to show the HTML representation or trust the notebook. <br />On GitHub, the HTML representation is unable to render, please try loading this page with nbviewer.org.</b></div><div class=\"sk-container\" hidden><div class=\"sk-item\"><div class=\"sk-estimator sk-toggleable\"><input class=\"sk-toggleable__control sk-hidden--visually\" id=\"sk-estimator-id-1\" type=\"checkbox\" checked><label for=\"sk-estimator-id-1\" class=\"sk-toggleable__label sk-toggleable__label-arrow\">OneClassSVM</label><div class=\"sk-toggleable__content\"><pre>OneClassSVM(kernel=&#x27;linear&#x27;, nu=0.01)</pre></div></div></div></div></div>"
      ],
      "text/plain": [
       "OneClassSVM(kernel='linear', nu=0.01)"
      ]
     },
     "execution_count": 20,
     "metadata": {},
     "output_type": "execute_result"
    }
   ],
   "source": [
    "oc_svm.fit(X_train_normal)"
   ]
  },
  {
   "cell_type": "code",
   "execution_count": null,
   "metadata": {
    "id": "WkAuSMQMa4vD"
   },
   "outputs": [],
   "source": [
    "y_pred_test_normal = oc_svm.predict(X_test_normal)\n",
    "y_pred_test_normal = np.where(y_pred_test_normal == 1, 0, 1)"
   ]
  },
  {
   "cell_type": "code",
   "execution_count": null,
   "metadata": {
    "id": "PRcXcf7Ma5kl"
   },
   "outputs": [],
   "source": [
    "y_pred_test_anomalies = oc_svm.predict(X_test_anomalies)\n",
    "y_pred_test_anomalies = np.where(y_pred_test_anomalies == 1, 0, 1)"
   ]
  },
  {
   "cell_type": "code",
   "execution_count": null,
   "metadata": {
    "id": "fAIgP6pGa73B"
   },
   "outputs": [],
   "source": [
    "y_pred_test_combined = np.concatenate([y_pred_test_normal, y_pred_test_anomalies])\n",
    "y_test_combined = np.concatenate([np.zeros_like(y_pred_test_normal), np.ones_like(y_pred_test_anomalies)])"
   ]
  },
  {
   "cell_type": "code",
   "execution_count": null,
   "metadata": {
    "id": "2iciBYTya_xW"
   },
   "outputs": [],
   "source": [
    "roc_auc_score_oc_svm = roc_auc_score(y_test_combined, y_pred_test_combined)\n",
    "class_report_oc_svm = classification_report(y_test_combined, y_pred_test_combined)"
   ]
  },
  {
   "cell_type": "code",
   "execution_count": null,
   "metadata": {
    "colab": {
     "base_uri": "https://localhost:8080/"
    },
    "id": "JGkl0-YJbEwJ",
    "outputId": "48aa45ec-ad6b-4650-9558-bc3fb0c165a9"
   },
   "outputs": [
    {
     "name": "stdout",
     "output_type": "stream",
     "text": [
      "Train-Test Split Validation\n",
      "AUC-ROC Score: 0.9891264656956221\n",
      "Classification Report:\n",
      "               precision    recall  f1-score   support\n",
      "\n",
      "           0       1.00      0.98      0.99     24647\n",
      "           1       0.95      1.00      0.97      9921\n",
      "\n",
      "    accuracy                           0.98     34568\n",
      "   macro avg       0.97      0.99      0.98     34568\n",
      "weighted avg       0.99      0.98      0.98     34568\n",
      "\n",
      "\n",
      "--------------------------------------------------\n",
      "\n"
     ]
    }
   ],
   "source": [
    "print(\"Train-Test Split Validation\")\n",
    "print(\"AUC-ROC Score:\", roc_auc_score_oc_svm)\n",
    "print(\"Classification Report:\\n\", class_report_oc_svm)\n",
    "print(\"\\n\" + \"-\"*50 + \"\\n\")"
   ]
  },
  {
   "cell_type": "code",
   "execution_count": null,
   "metadata": {
    "id": "BRKSzGT1XGXw"
   },
   "outputs": [],
   "source": [
    "strat_k_fold = StratifiedKFold(n_splits=5, shuffle=True, random_state=42)\n",
    "roc_auc_scores = []\n",
    "classification_reports = []"
   ]
  },
  {
   "cell_type": "code",
   "execution_count": null,
   "metadata": {
    "colab": {
     "base_uri": "https://localhost:8080/"
    },
    "id": "t2l5rQ-dXfWH",
    "outputId": "41140b66-6fc6-4ca2-fd46-164c9a8efc11"
   },
   "outputs": [
    {
     "name": "stdout",
     "output_type": "stream",
     "text": [
      "Stratified K-Fold Cross-Validation: Fold 1\n",
      "AUC-ROC Score: 0.7770735374709704\n",
      "Classification Report:\n",
      "               precision    recall  f1-score   support\n",
      "\n",
      "         0.0       0.82      0.99      0.90     49606\n",
      "         1.0       0.97      0.56      0.71     24647\n",
      "\n",
      "    accuracy                           0.85     74253\n",
      "   macro avg       0.89      0.78      0.80     74253\n",
      "weighted avg       0.87      0.85      0.84     74253\n",
      "\n",
      "\n",
      "--------------------------------------------------\n",
      "\n",
      "Stratified K-Fold Cross-Validation: Fold 2\n",
      "AUC-ROC Score: 0.7789804632631563\n",
      "Classification Report:\n",
      "               precision    recall  f1-score   support\n",
      "\n",
      "         0.0       0.82      0.99      0.90     49606\n",
      "         1.0       0.97      0.57      0.72     24647\n",
      "\n",
      "    accuracy                           0.85     74253\n",
      "   macro avg       0.89      0.78      0.81     74253\n",
      "weighted avg       0.87      0.85      0.84     74253\n",
      "\n",
      "\n",
      "--------------------------------------------------\n",
      "\n",
      "Stratified K-Fold Cross-Validation: Fold 3\n",
      "AUC-ROC Score: 0.7767198120393439\n",
      "Classification Report:\n",
      "               precision    recall  f1-score   support\n",
      "\n",
      "         0.0       0.82      0.99      0.90     49606\n",
      "         1.0       0.97      0.56      0.71     24646\n",
      "\n",
      "    accuracy                           0.85     74252\n",
      "   macro avg       0.89      0.78      0.80     74252\n",
      "weighted avg       0.87      0.85      0.84     74252\n",
      "\n",
      "\n",
      "--------------------------------------------------\n",
      "\n",
      "Stratified K-Fold Cross-Validation: Fold 4\n",
      "AUC-ROC Score: 0.777186419196692\n",
      "Classification Report:\n",
      "               precision    recall  f1-score   support\n",
      "\n",
      "         0.0       0.82      0.99      0.90     49606\n",
      "         1.0       0.97      0.56      0.71     24646\n",
      "\n",
      "    accuracy                           0.85     74252\n",
      "   macro avg       0.89      0.78      0.80     74252\n",
      "weighted avg       0.87      0.85      0.84     74252\n",
      "\n",
      "\n",
      "--------------------------------------------------\n",
      "\n",
      "Stratified K-Fold Cross-Validation: Fold 5\n",
      "AUC-ROC Score: 0.777937048101991\n",
      "Classification Report:\n",
      "               precision    recall  f1-score   support\n",
      "\n",
      "         0.0       0.82      0.99      0.90     49606\n",
      "         1.0       0.97      0.57      0.71     24646\n",
      "\n",
      "    accuracy                           0.85     74252\n",
      "   macro avg       0.89      0.78      0.81     74252\n",
      "weighted avg       0.87      0.85      0.84     74252\n",
      "\n",
      "\n",
      "--------------------------------------------------\n",
      "\n"
     ]
    }
   ],
   "source": [
    "for fold, (train_index, test_index) in enumerate(strat_k_fold.split(data_anomalous, np.zeros(data_anomalous.shape[0])), start=1):\n",
    "    anomalies_train, anomalies_test = data_anomalous.iloc[train_index], data_anomalous.iloc[test_index]\n",
    "    X_test = pd.concat([data_normal, anomalies_test]).drop('class_normal', axis=1)\n",
    "    y_test = pd.concat([pd.Series(np.zeros(data_normal.shape[0])), pd.Series(np.ones(anomalies_test.shape[0]))])\n",
    "\n",
    "    scaler = MinMaxScaler()\n",
    "    X_test_scaled = scaler.fit_transform(X_test)\n",
    "    X_train_normal = data_normal.drop('class_normal', axis=1)\n",
    "    X_train_normal_scaled = scaler.transform(X_train_normal)\n",
    "    oc_svm.fit(X_train_normal_scaled)\n",
    "\n",
    "    y_pred = oc_svm.predict(X_test_scaled)\n",
    "    y_pred = np.where(y_pred == 1, 0, 1)\n",
    "\n",
    "    roc_auc_score_oc_svm = roc_auc_score(y_test, y_pred)\n",
    "    class_report_oc_svm = classification_report(y_test, y_pred)\n",
    "\n",
    "    roc_auc_scores.append(roc_auc_score_oc_svm)\n",
    "    classification_reports.append(class_report_oc_svm)\n",
    "\n",
    "    print(f\"Stratified K-Fold Cross-Validation: Fold {fold}\")\n",
    "    print(\"AUC-ROC Score:\", roc_auc_score_oc_svm)\n",
    "    print(\"Classification Report:\\n\", class_report_oc_svm)\n",
    "    print(\"\\n\" + \"-\"*50 + \"\\n\")\n"
   ]
  },
  {
   "cell_type": "code",
   "execution_count": null,
   "metadata": {
    "colab": {
     "base_uri": "https://localhost:8080/"
    },
    "id": "MSsRMvLGXiST",
    "outputId": "7d59afbc-f8dc-4793-fc17-0faec0190d40"
   },
   "outputs": [
    {
     "name": "stdout",
     "output_type": "stream",
     "text": [
      "Average AUC-ROC Score Across All Folds: 0.7775794560144307\n"
     ]
    }
   ],
   "source": [
    "average_roc_auc_score = np.mean(roc_auc_scores)\n",
    "print(\"Average AUC-ROC Score Across All Folds:\", average_roc_auc_score)"
   ]
  }
 ],
 "metadata": {
  "colab": {
   "provenance": []
  },
  "kernelspec": {
   "display_name": "Python 3",
   "name": "python3"
  },
  "language_info": {
   "name": "python"
  }
 },
 "nbformat": 4,
 "nbformat_minor": 0
}
